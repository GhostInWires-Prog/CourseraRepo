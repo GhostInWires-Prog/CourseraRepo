{
 "cells": [
  {
   "cell_type": "markdown",
   "metadata": {},
   "source": [
    "# Data Science Tools and Ecosystem\n",
    "\n",
    "In this notebook, Data Science Tools and Ecosystem are summarized.\n"
   ]
  },
  {
   "cell_type": "markdown",
   "metadata": {},
   "source": [
    "<b> Objectives:\n",
    "Common Langs \n",
    "\n",
    "- Python\n",
    "- R\n",
    "- Julia\n",
    "\n",
    "Common Libs\n",
    "\n",
    "- Scikit\n",
    "- KERAS\n",
    "- Sci py\n"
   ]
  },
  {
   "cell_type": "markdown",
   "metadata": {},
   "source": [
    "\n",
    "\n",
    "# Common Langauges Of Data Sciences\n",
    "\n",
    "1. Python\n",
    "2. R\n",
    "3. C++\n",
    "4. JAVA\n",
    "5. SQL\n",
    "\n",
    "# Common Libraries Of Data Sciences\n",
    "\n",
    "1. Matplotlib For Data Visualisation In Python\n",
    "2. ggplot For Data Visualization In R\n",
    "3. Numpy/Pandas Arrays , Data Structures In Python\n",
    "4. Tensor Flow For Training Models\n",
    "\n",
    "\n",
    "|Tools Of Data Science|\n",
    "|----------------------|\n",
    "|Python|\n",
    "|SQL|\n",
    "|R|\n",
    "\n",
    "### Below are a few examples of evaluating arithmetic expressions in Python.\n",
    "\n",
    " $$(3*4)+5$$\n",
    "\n",
    " This a simple arithmetic expression to mutiply then add integers."
   ]
  },
  {
   "cell_type": "code",
   "execution_count": 1,
   "metadata": {},
   "outputs": [
    {
     "name": "stdout",
     "output_type": "stream",
     "text": [
      "17\n"
     ]
    }
   ],
   "source": [
    " \n",
    "print((3*4)+5)"
   ]
  },
  {
   "cell_type": "markdown",
   "metadata": {},
   "source": [
    " ## This will convert 200 minutes to hours by diving by 60."
   ]
  },
  {
   "cell_type": "code",
   "execution_count": 2,
   "metadata": {},
   "outputs": [
    {
     "name": "stdout",
     "output_type": "stream",
     "text": [
      "3.3333333333333335\n"
     ]
    }
   ],
   "source": [
    "print(200/60)"
   ]
  },
  {
   "cell_type": "markdown",
   "metadata": {},
   "source": [
    "## Author \n",
    "\n",
    "Muqqadam Tahir \n"
   ]
  }
 ],
 "metadata": {
  "kernelspec": {
   "display_name": "Python 3",
   "language": "python",
   "name": "python3"
  },
  "language_info": {
   "codemirror_mode": {
    "name": "ipython",
    "version": 3
   },
   "file_extension": ".py",
   "mimetype": "text/x-python",
   "name": "python",
   "nbconvert_exporter": "python",
   "pygments_lexer": "ipython3",
   "version": "3.12.4"
  }
 },
 "nbformat": 4,
 "nbformat_minor": 2
}
